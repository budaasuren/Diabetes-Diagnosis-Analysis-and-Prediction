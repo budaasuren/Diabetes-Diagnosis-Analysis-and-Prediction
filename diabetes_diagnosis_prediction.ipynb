{
 "cells": [
  {
   "cell_type": "markdown",
   "metadata": {},
   "source": [
    "# Diabetes Prediction and Analysis\n",
    "# Part 1: Data cleaning and transformation\n",
    "# Part 2: Explotary Data Analysis with Visualizations\n",
    "# Part 3: Model Building for Diebetes Prediction\n"
   ]
  },
  {
   "cell_type": "code",
   "execution_count": 2,
   "metadata": {},
   "outputs": [],
   "source": [
    "import pandas as pd\n",
    "import numpy as np\n",
    "from sklearn.linear_model import LogisticRegression\n",
    "from sklearn.metrics import accuracy_score\n",
    "from sklearn.ensemble import RandomForestClassifier\n",
    "from sklearn.preprocessing import OneHotEncoder\n",
    "from sklearn.impute import SimpleImputer\n",
    "import os\n",
    "import matplotlib.pyplot as plt\n",
    "import seaborn as sns\n",
    "import math"
   ]
  },
  {
   "cell_type": "markdown",
   "metadata": {},
   "source": [
    "# Part 1: Data cleaning and transformation"
   ]
  },
  {
   "cell_type": "code",
   "execution_count": 3,
   "metadata": {},
   "outputs": [],
   "source": [
    "#importing the datas\n",
    "diabetes_train = pd.read_csv( \"Data/diabetes_train_analysis.csv\", sep=\",\" )\n",
    "diabetes_test = pd.read_csv( \"Data/diabetes_test_analysis.csv\", sep=\",\" )\n",
    "\n",
    "diabetes_info_train = pd.read_csv( \"Data/diabetes_train_info.csv\", sep=\",\" )\n",
    "diabetes_info_test = pd.read_csv( \"Data/diabetes_test_info.csv\", sep=\",\" )\n"
   ]
  },
  {
   "cell_type": "code",
   "execution_count": 4,
   "metadata": {},
   "outputs": [
    {
     "data": {
      "text/html": [
       "<div>\n",
       "<style scoped>\n",
       "    .dataframe tbody tr th:only-of-type {\n",
       "        vertical-align: middle;\n",
       "    }\n",
       "\n",
       "    .dataframe tbody tr th {\n",
       "        vertical-align: top;\n",
       "    }\n",
       "\n",
       "    .dataframe thead th {\n",
       "        text-align: right;\n",
       "    }\n",
       "</style>\n",
       "<table border=\"1\" class=\"dataframe\">\n",
       "  <thead>\n",
       "    <tr style=\"text-align: right;\">\n",
       "      <th></th>\n",
       "      <th>id</th>\n",
       "      <th>cholesterol</th>\n",
       "      <th>gluc</th>\n",
       "      <th>smoke</th>\n",
       "      <th>alco</th>\n",
       "      <th>active</th>\n",
       "      <th>pressure</th>\n",
       "      <th>diabetes</th>\n",
       "      <th>chol_low</th>\n",
       "      <th>chol_high</th>\n",
       "      <th>chol_medium</th>\n",
       "    </tr>\n",
       "  </thead>\n",
       "  <tbody>\n",
       "    <tr>\n",
       "      <th>0</th>\n",
       "      <td>56041</td>\n",
       "      <td>low</td>\n",
       "      <td>low</td>\n",
       "      <td>0</td>\n",
       "      <td>0</td>\n",
       "      <td>1</td>\n",
       "      <td>120/80</td>\n",
       "      <td>0</td>\n",
       "      <td>1.0</td>\n",
       "      <td>0.0</td>\n",
       "      <td>0.0</td>\n",
       "    </tr>\n",
       "    <tr>\n",
       "      <th>1</th>\n",
       "      <td>83393</td>\n",
       "      <td>low</td>\n",
       "      <td>low</td>\n",
       "      <td>0</td>\n",
       "      <td>0</td>\n",
       "      <td>1</td>\n",
       "      <td>120/80</td>\n",
       "      <td>0</td>\n",
       "      <td>1.0</td>\n",
       "      <td>0.0</td>\n",
       "      <td>0.0</td>\n",
       "    </tr>\n",
       "    <tr>\n",
       "      <th>2</th>\n",
       "      <td>29416</td>\n",
       "      <td>high</td>\n",
       "      <td>high</td>\n",
       "      <td>1</td>\n",
       "      <td>0</td>\n",
       "      <td>0</td>\n",
       "      <td>160/110</td>\n",
       "      <td>1</td>\n",
       "      <td>0.0</td>\n",
       "      <td>1.0</td>\n",
       "      <td>0.0</td>\n",
       "    </tr>\n",
       "    <tr>\n",
       "      <th>3</th>\n",
       "      <td>55191</td>\n",
       "      <td>low</td>\n",
       "      <td>low</td>\n",
       "      <td>0</td>\n",
       "      <td>0</td>\n",
       "      <td>1</td>\n",
       "      <td>100/70</td>\n",
       "      <td>0</td>\n",
       "      <td>1.0</td>\n",
       "      <td>0.0</td>\n",
       "      <td>0.0</td>\n",
       "    </tr>\n",
       "    <tr>\n",
       "      <th>4</th>\n",
       "      <td>42861</td>\n",
       "      <td>low</td>\n",
       "      <td>low</td>\n",
       "      <td>0</td>\n",
       "      <td>0</td>\n",
       "      <td>1</td>\n",
       "      <td>130/80</td>\n",
       "      <td>0</td>\n",
       "      <td>1.0</td>\n",
       "      <td>0.0</td>\n",
       "      <td>0.0</td>\n",
       "    </tr>\n",
       "  </tbody>\n",
       "</table>\n",
       "</div>"
      ],
      "text/plain": [
       "      id cholesterol  gluc  smoke  alco  active pressure  diabetes  chol_low  \\\n",
       "0  56041         low   low      0     0       1   120/80         0       1.0   \n",
       "1  83393         low   low      0     0       1   120/80         0       1.0   \n",
       "2  29416        high  high      1     0       0  160/110         1       0.0   \n",
       "3  55191         low   low      0     0       1   100/70         0       1.0   \n",
       "4  42861         low   low      0     0       1   130/80         0       1.0   \n",
       "\n",
       "   chol_high  chol_medium  \n",
       "0        0.0          0.0  \n",
       "1        0.0          0.0  \n",
       "2        1.0          0.0  \n",
       "3        0.0          0.0  \n",
       "4        0.0          0.0  "
      ]
     },
     "execution_count": 4,
     "metadata": {},
     "output_type": "execute_result"
    }
   ],
   "source": [
    "#creating one-hot-encoding dummy variables for the cholesterol level labels.\n",
    "chol_value_list = diabetes_train['gluc'].unique()\n",
    "\n",
    "diabetes_train['chol_low'] = ( diabetes_train['cholesterol'] == 'low' ).astype(float)\n",
    "diabetes_train['chol_high'] = ( diabetes_train['cholesterol'] == 'high' ).astype(float)\n",
    "diabetes_train['chol_medium'] = ( diabetes_train['cholesterol'] == 'medium' ).astype(float)\n",
    "\n",
    "diabetes_test['chol_low'] = ( diabetes_test['cholesterol'] == 'low' ).astype(float)\n",
    "diabetes_test['chol_high'] = ( diabetes_test['cholesterol'] == 'high' ).astype(float)\n",
    "diabetes_test['chol_medium'] = ( diabetes_test['cholesterol'] == 'medium' ).astype(float)\n",
    "\n",
    "diabetes_train.head()"
   ]
  },
  {
   "cell_type": "code",
   "execution_count": 5,
   "metadata": {},
   "outputs": [],
   "source": [
    "#creating a function that creates one-hot-encoding dummy variables for the purpose of reusing\n",
    "def one_hot_encoder( df, col_name, cat_values ):  \n",
    "    for i in list(cat_values):    \n",
    "        df[f\"{col_name}_{i}\"] = ( df[col_name] == i ).astype(float)    \n",
    "    return df"
   ]
  },
  {
   "cell_type": "code",
   "execution_count": 6,
   "metadata": {},
   "outputs": [
    {
     "data": {
      "text/html": [
       "<div>\n",
       "<style scoped>\n",
       "    .dataframe tbody tr th:only-of-type {\n",
       "        vertical-align: middle;\n",
       "    }\n",
       "\n",
       "    .dataframe tbody tr th {\n",
       "        vertical-align: top;\n",
       "    }\n",
       "\n",
       "    .dataframe thead th {\n",
       "        text-align: right;\n",
       "    }\n",
       "</style>\n",
       "<table border=\"1\" class=\"dataframe\">\n",
       "  <thead>\n",
       "    <tr style=\"text-align: right;\">\n",
       "      <th></th>\n",
       "      <th>id</th>\n",
       "      <th>cholesterol</th>\n",
       "      <th>gluc</th>\n",
       "      <th>smoke</th>\n",
       "      <th>alco</th>\n",
       "      <th>active</th>\n",
       "      <th>pressure</th>\n",
       "      <th>diabetes</th>\n",
       "      <th>chol_low</th>\n",
       "      <th>chol_high</th>\n",
       "      <th>chol_medium</th>\n",
       "      <th>gluc_low</th>\n",
       "      <th>gluc_high</th>\n",
       "      <th>gluc_medium</th>\n",
       "    </tr>\n",
       "  </thead>\n",
       "  <tbody>\n",
       "    <tr>\n",
       "      <th>0</th>\n",
       "      <td>56041</td>\n",
       "      <td>low</td>\n",
       "      <td>low</td>\n",
       "      <td>0</td>\n",
       "      <td>0</td>\n",
       "      <td>1</td>\n",
       "      <td>120/80</td>\n",
       "      <td>0</td>\n",
       "      <td>1.0</td>\n",
       "      <td>0.0</td>\n",
       "      <td>0.0</td>\n",
       "      <td>1.0</td>\n",
       "      <td>0.0</td>\n",
       "      <td>0.0</td>\n",
       "    </tr>\n",
       "    <tr>\n",
       "      <th>1</th>\n",
       "      <td>83393</td>\n",
       "      <td>low</td>\n",
       "      <td>low</td>\n",
       "      <td>0</td>\n",
       "      <td>0</td>\n",
       "      <td>1</td>\n",
       "      <td>120/80</td>\n",
       "      <td>0</td>\n",
       "      <td>1.0</td>\n",
       "      <td>0.0</td>\n",
       "      <td>0.0</td>\n",
       "      <td>1.0</td>\n",
       "      <td>0.0</td>\n",
       "      <td>0.0</td>\n",
       "    </tr>\n",
       "    <tr>\n",
       "      <th>2</th>\n",
       "      <td>29416</td>\n",
       "      <td>high</td>\n",
       "      <td>high</td>\n",
       "      <td>1</td>\n",
       "      <td>0</td>\n",
       "      <td>0</td>\n",
       "      <td>160/110</td>\n",
       "      <td>1</td>\n",
       "      <td>0.0</td>\n",
       "      <td>1.0</td>\n",
       "      <td>0.0</td>\n",
       "      <td>0.0</td>\n",
       "      <td>1.0</td>\n",
       "      <td>0.0</td>\n",
       "    </tr>\n",
       "    <tr>\n",
       "      <th>3</th>\n",
       "      <td>55191</td>\n",
       "      <td>low</td>\n",
       "      <td>low</td>\n",
       "      <td>0</td>\n",
       "      <td>0</td>\n",
       "      <td>1</td>\n",
       "      <td>100/70</td>\n",
       "      <td>0</td>\n",
       "      <td>1.0</td>\n",
       "      <td>0.0</td>\n",
       "      <td>0.0</td>\n",
       "      <td>1.0</td>\n",
       "      <td>0.0</td>\n",
       "      <td>0.0</td>\n",
       "    </tr>\n",
       "    <tr>\n",
       "      <th>4</th>\n",
       "      <td>42861</td>\n",
       "      <td>low</td>\n",
       "      <td>low</td>\n",
       "      <td>0</td>\n",
       "      <td>0</td>\n",
       "      <td>1</td>\n",
       "      <td>130/80</td>\n",
       "      <td>0</td>\n",
       "      <td>1.0</td>\n",
       "      <td>0.0</td>\n",
       "      <td>0.0</td>\n",
       "      <td>1.0</td>\n",
       "      <td>0.0</td>\n",
       "      <td>0.0</td>\n",
       "    </tr>\n",
       "  </tbody>\n",
       "</table>\n",
       "</div>"
      ],
      "text/plain": [
       "      id cholesterol  gluc  smoke  alco  active pressure  diabetes  chol_low  \\\n",
       "0  56041         low   low      0     0       1   120/80         0       1.0   \n",
       "1  83393         low   low      0     0       1   120/80         0       1.0   \n",
       "2  29416        high  high      1     0       0  160/110         1       0.0   \n",
       "3  55191         low   low      0     0       1   100/70         0       1.0   \n",
       "4  42861         low   low      0     0       1   130/80         0       1.0   \n",
       "\n",
       "   chol_high  chol_medium  gluc_low  gluc_high  gluc_medium  \n",
       "0        0.0          0.0       1.0        0.0          0.0  \n",
       "1        0.0          0.0       1.0        0.0          0.0  \n",
       "2        1.0          0.0       0.0        1.0          0.0  \n",
       "3        0.0          0.0       1.0        0.0          0.0  \n",
       "4        0.0          0.0       1.0        0.0          0.0  "
      ]
     },
     "execution_count": 6,
     "metadata": {},
     "output_type": "execute_result"
    }
   ],
   "source": [
    "#using one_hot_encoder function for the glucose level label\n",
    "diabetes_train=one_hot_encoder(diabetes_train, 'gluc', ['low','high', 'medium'] )\n",
    "diabetes_test=one_hot_encoder(diabetes_test, 'gluc', ['low','high', 'medium'] )\n",
    "diabetes_train.head()"
   ]
  },
  {
   "cell_type": "code",
   "execution_count": 7,
   "metadata": {},
   "outputs": [],
   "source": [
    "#separating blood pressure using the lambda function and created two columns for high and low blood pressure measures\n",
    "diabetes_train['press_high'] = diabetes_train['pressure'].apply( lambda x: x.split(\"/\")[0] ).astype(float)\n",
    "diabetes_test['press_high'] = diabetes_test['pressure'].apply( lambda x: x.split(\"/\")[0] ).astype(float)\n",
    "\n",
    "diabetes_train['press_low'] = diabetes_train['pressure'].apply( lambda x: x.split(\"/\")[1] ).astype(float)\n",
    "diabetes_test['press_low'] = diabetes_test['pressure'].apply( lambda x: x.split(\"/\")[1] ).astype(float)\n",
    "\n"
   ]
  },
  {
   "cell_type": "code",
   "execution_count": 8,
   "metadata": {},
   "outputs": [
    {
     "data": {
      "text/html": [
       "<div>\n",
       "<style scoped>\n",
       "    .dataframe tbody tr th:only-of-type {\n",
       "        vertical-align: middle;\n",
       "    }\n",
       "\n",
       "    .dataframe tbody tr th {\n",
       "        vertical-align: top;\n",
       "    }\n",
       "\n",
       "    .dataframe thead th {\n",
       "        text-align: right;\n",
       "    }\n",
       "</style>\n",
       "<table border=\"1\" class=\"dataframe\">\n",
       "  <thead>\n",
       "    <tr style=\"text-align: right;\">\n",
       "      <th></th>\n",
       "      <th>id</th>\n",
       "      <th>cholesterol</th>\n",
       "      <th>gluc</th>\n",
       "      <th>smoke</th>\n",
       "      <th>alco</th>\n",
       "      <th>active</th>\n",
       "      <th>pressure</th>\n",
       "      <th>diabetes</th>\n",
       "      <th>chol_low</th>\n",
       "      <th>chol_high</th>\n",
       "      <th>chol_medium</th>\n",
       "      <th>gluc_low</th>\n",
       "      <th>gluc_high</th>\n",
       "      <th>gluc_medium</th>\n",
       "      <th>press_high</th>\n",
       "      <th>press_low</th>\n",
       "      <th>diabetes_label</th>\n",
       "    </tr>\n",
       "  </thead>\n",
       "  <tbody>\n",
       "    <tr>\n",
       "      <th>0</th>\n",
       "      <td>56041</td>\n",
       "      <td>low</td>\n",
       "      <td>low</td>\n",
       "      <td>0</td>\n",
       "      <td>0</td>\n",
       "      <td>1</td>\n",
       "      <td>120/80</td>\n",
       "      <td>0</td>\n",
       "      <td>1.0</td>\n",
       "      <td>0.0</td>\n",
       "      <td>0.0</td>\n",
       "      <td>1.0</td>\n",
       "      <td>0.0</td>\n",
       "      <td>0.0</td>\n",
       "      <td>120.0</td>\n",
       "      <td>80.0</td>\n",
       "      <td>non-diabetic</td>\n",
       "    </tr>\n",
       "    <tr>\n",
       "      <th>1</th>\n",
       "      <td>83393</td>\n",
       "      <td>low</td>\n",
       "      <td>low</td>\n",
       "      <td>0</td>\n",
       "      <td>0</td>\n",
       "      <td>1</td>\n",
       "      <td>120/80</td>\n",
       "      <td>0</td>\n",
       "      <td>1.0</td>\n",
       "      <td>0.0</td>\n",
       "      <td>0.0</td>\n",
       "      <td>1.0</td>\n",
       "      <td>0.0</td>\n",
       "      <td>0.0</td>\n",
       "      <td>120.0</td>\n",
       "      <td>80.0</td>\n",
       "      <td>non-diabetic</td>\n",
       "    </tr>\n",
       "    <tr>\n",
       "      <th>2</th>\n",
       "      <td>29416</td>\n",
       "      <td>high</td>\n",
       "      <td>high</td>\n",
       "      <td>1</td>\n",
       "      <td>0</td>\n",
       "      <td>0</td>\n",
       "      <td>160/110</td>\n",
       "      <td>1</td>\n",
       "      <td>0.0</td>\n",
       "      <td>1.0</td>\n",
       "      <td>0.0</td>\n",
       "      <td>0.0</td>\n",
       "      <td>1.0</td>\n",
       "      <td>0.0</td>\n",
       "      <td>160.0</td>\n",
       "      <td>110.0</td>\n",
       "      <td>diabetic</td>\n",
       "    </tr>\n",
       "    <tr>\n",
       "      <th>3</th>\n",
       "      <td>55191</td>\n",
       "      <td>low</td>\n",
       "      <td>low</td>\n",
       "      <td>0</td>\n",
       "      <td>0</td>\n",
       "      <td>1</td>\n",
       "      <td>100/70</td>\n",
       "      <td>0</td>\n",
       "      <td>1.0</td>\n",
       "      <td>0.0</td>\n",
       "      <td>0.0</td>\n",
       "      <td>1.0</td>\n",
       "      <td>0.0</td>\n",
       "      <td>0.0</td>\n",
       "      <td>100.0</td>\n",
       "      <td>70.0</td>\n",
       "      <td>non-diabetic</td>\n",
       "    </tr>\n",
       "    <tr>\n",
       "      <th>4</th>\n",
       "      <td>42861</td>\n",
       "      <td>low</td>\n",
       "      <td>low</td>\n",
       "      <td>0</td>\n",
       "      <td>0</td>\n",
       "      <td>1</td>\n",
       "      <td>130/80</td>\n",
       "      <td>0</td>\n",
       "      <td>1.0</td>\n",
       "      <td>0.0</td>\n",
       "      <td>0.0</td>\n",
       "      <td>1.0</td>\n",
       "      <td>0.0</td>\n",
       "      <td>0.0</td>\n",
       "      <td>130.0</td>\n",
       "      <td>80.0</td>\n",
       "      <td>non-diabetic</td>\n",
       "    </tr>\n",
       "  </tbody>\n",
       "</table>\n",
       "</div>"
      ],
      "text/plain": [
       "      id cholesterol  gluc  smoke  alco  active pressure  diabetes  chol_low  \\\n",
       "0  56041         low   low      0     0       1   120/80         0       1.0   \n",
       "1  83393         low   low      0     0       1   120/80         0       1.0   \n",
       "2  29416        high  high      1     0       0  160/110         1       0.0   \n",
       "3  55191         low   low      0     0       1   100/70         0       1.0   \n",
       "4  42861         low   low      0     0       1   130/80         0       1.0   \n",
       "\n",
       "   chol_high  chol_medium  gluc_low  gluc_high  gluc_medium  press_high  \\\n",
       "0        0.0          0.0       1.0        0.0          0.0       120.0   \n",
       "1        0.0          0.0       1.0        0.0          0.0       120.0   \n",
       "2        1.0          0.0       0.0        1.0          0.0       160.0   \n",
       "3        0.0          0.0       1.0        0.0          0.0       100.0   \n",
       "4        0.0          0.0       1.0        0.0          0.0       130.0   \n",
       "\n",
       "   press_low diabetes_label  \n",
       "0       80.0   non-diabetic  \n",
       "1       80.0   non-diabetic  \n",
       "2      110.0       diabetic  \n",
       "3       70.0   non-diabetic  \n",
       "4       80.0   non-diabetic  "
      ]
     },
     "execution_count": 8,
     "metadata": {},
     "output_type": "execute_result"
    }
   ],
   "source": [
    "#adding diabetes_label column\n",
    "diabetes_train['diabetes_label'] = 'diabetic'\n",
    "diabetes_train.loc[ diabetes_train['diabetes']==0, 'diabetes_label' ] = 'non-diabetic'\n",
    "\n",
    "diabetes_train.head()"
   ]
  },
  {
   "cell_type": "code",
   "execution_count": 9,
   "metadata": {},
   "outputs": [
    {
     "data": {
      "text/plain": [
       "array(['female', 'm', 'f', 'male'], dtype=object)"
      ]
     },
     "execution_count": 9,
     "metadata": {},
     "output_type": "execute_result"
    }
   ],
   "source": [
    "#gender has non-consistent labels\n",
    "diabetes_info_train['gender'].unique()\n"
   ]
  },
  {
   "cell_type": "code",
   "execution_count": 10,
   "metadata": {},
   "outputs": [],
   "source": [
    "#cleaning the gender column the training data\n",
    "\n",
    "diabetes_info_train.loc[ diabetes_info_train['gender']=='female', 'gender' ] = 'f'\n",
    "diabetes_info_train.loc[ diabetes_info_train['gender']=='male', 'gender' ] = 'm'\n",
    "gender_uniq_vals = diabetes_info_train['gender'].unique()\n",
    "diabetes_info_train = one_hot_encoder( diabetes_info_train, \"gender\", gender_uniq_vals )\n",
    "\n"
   ]
  },
  {
   "cell_type": "code",
   "execution_count": 11,
   "metadata": {},
   "outputs": [],
   "source": [
    "#cleaning the gender column for the test data\n",
    "diabetes_info_test.loc[ diabetes_info_test['gender']=='female', 'gender' ] = 'f'\n",
    "diabetes_info_test.loc[ diabetes_info_test['gender']=='male', 'gender' ] = 'm'\n",
    "diabetes_info_test = one_hot_encoder( diabetes_info_test, \"gender\", gender_uniq_vals )\n"
   ]
  },
  {
   "cell_type": "code",
   "execution_count": 12,
   "metadata": {},
   "outputs": [
    {
     "data": {
      "text/plain": [
       "count    60000.000000\n",
       "mean     13604.096283\n",
       "std       9153.754517\n",
       "min         30.000000\n",
       "25%         60.000000\n",
       "50%      18161.000000\n",
       "75%      20573.000000\n",
       "max      23713.000000\n",
       "Name: age, dtype: float64"
      ]
     },
     "execution_count": 12,
     "metadata": {},
     "output_type": "execute_result"
    }
   ],
   "source": [
    "#age values have very high numbers (some age information is entered in terms days but some is entered in years)\n",
    "diabetes_info_train['age'].describe()"
   ]
  },
  {
   "cell_type": "code",
   "execution_count": 13,
   "metadata": {},
   "outputs": [
    {
     "data": {
      "text/html": [
       "<div>\n",
       "<style scoped>\n",
       "    .dataframe tbody tr th:only-of-type {\n",
       "        vertical-align: middle;\n",
       "    }\n",
       "\n",
       "    .dataframe tbody tr th {\n",
       "        vertical-align: top;\n",
       "    }\n",
       "\n",
       "    .dataframe thead th {\n",
       "        text-align: right;\n",
       "    }\n",
       "</style>\n",
       "<table border=\"1\" class=\"dataframe\">\n",
       "  <thead>\n",
       "    <tr style=\"text-align: right;\">\n",
       "      <th></th>\n",
       "      <th>id</th>\n",
       "      <th>age</th>\n",
       "      <th>height</th>\n",
       "      <th>weight</th>\n",
       "      <th>gender</th>\n",
       "      <th>gender_f</th>\n",
       "      <th>gender_m</th>\n",
       "      <th>age_2</th>\n",
       "    </tr>\n",
       "  </thead>\n",
       "  <tbody>\n",
       "    <tr>\n",
       "      <th>0</th>\n",
       "      <td>0</td>\n",
       "      <td>18393</td>\n",
       "      <td>168</td>\n",
       "      <td>62.0</td>\n",
       "      <td>f</td>\n",
       "      <td>1.0</td>\n",
       "      <td>0.0</td>\n",
       "      <td>50.391781</td>\n",
       "    </tr>\n",
       "    <tr>\n",
       "      <th>1</th>\n",
       "      <td>1</td>\n",
       "      <td>20228</td>\n",
       "      <td>156</td>\n",
       "      <td>85.0</td>\n",
       "      <td>m</td>\n",
       "      <td>0.0</td>\n",
       "      <td>1.0</td>\n",
       "      <td>55.419178</td>\n",
       "    </tr>\n",
       "    <tr>\n",
       "      <th>2</th>\n",
       "      <td>2</td>\n",
       "      <td>18857</td>\n",
       "      <td>165</td>\n",
       "      <td>64.0</td>\n",
       "      <td>m</td>\n",
       "      <td>0.0</td>\n",
       "      <td>1.0</td>\n",
       "      <td>51.663014</td>\n",
       "    </tr>\n",
       "    <tr>\n",
       "      <th>3</th>\n",
       "      <td>3</td>\n",
       "      <td>48</td>\n",
       "      <td>169</td>\n",
       "      <td>82.0</td>\n",
       "      <td>f</td>\n",
       "      <td>1.0</td>\n",
       "      <td>0.0</td>\n",
       "      <td>48.000000</td>\n",
       "    </tr>\n",
       "    <tr>\n",
       "      <th>4</th>\n",
       "      <td>4</td>\n",
       "      <td>47</td>\n",
       "      <td>156</td>\n",
       "      <td>56.0</td>\n",
       "      <td>m</td>\n",
       "      <td>0.0</td>\n",
       "      <td>1.0</td>\n",
       "      <td>47.000000</td>\n",
       "    </tr>\n",
       "  </tbody>\n",
       "</table>\n",
       "</div>"
      ],
      "text/plain": [
       "   id    age  height  weight gender  gender_f  gender_m      age_2\n",
       "0   0  18393     168    62.0      f       1.0       0.0  50.391781\n",
       "1   1  20228     156    85.0      m       0.0       1.0  55.419178\n",
       "2   2  18857     165    64.0      m       0.0       1.0  51.663014\n",
       "3   3     48     169    82.0      f       1.0       0.0  48.000000\n",
       "4   4     47     156    56.0      m       0.0       1.0  47.000000"
      ]
     },
     "execution_count": 13,
     "metadata": {},
     "output_type": "execute_result"
    }
   ],
   "source": [
    "#cleaning the age column for the training data\n",
    "diabetes_info_train['age_2'] = diabetes_info_train['age']\n",
    "diabetes_info_train.loc[ diabetes_info_train['age'] > 150, 'age_2'] = diabetes_info_train['age'] / 365\n",
    "diabetes_info_train['age'] = diabetes_info_train['age'].apply( lambda x: math.floor( x ) )\n",
    "diabetes_info_train.head() \n",
    "\n"
   ]
  },
  {
   "cell_type": "code",
   "execution_count": 14,
   "metadata": {
    "scrolled": true
   },
   "outputs": [
    {
     "data": {
      "text/html": [
       "<div>\n",
       "<style scoped>\n",
       "    .dataframe tbody tr th:only-of-type {\n",
       "        vertical-align: middle;\n",
       "    }\n",
       "\n",
       "    .dataframe tbody tr th {\n",
       "        vertical-align: top;\n",
       "    }\n",
       "\n",
       "    .dataframe thead th {\n",
       "        text-align: right;\n",
       "    }\n",
       "</style>\n",
       "<table border=\"1\" class=\"dataframe\">\n",
       "  <thead>\n",
       "    <tr style=\"text-align: right;\">\n",
       "      <th></th>\n",
       "      <th>id</th>\n",
       "      <th>age</th>\n",
       "      <th>height</th>\n",
       "      <th>weight</th>\n",
       "      <th>gender</th>\n",
       "      <th>gender_f</th>\n",
       "      <th>gender_m</th>\n",
       "      <th>age_2</th>\n",
       "    </tr>\n",
       "  </thead>\n",
       "  <tbody>\n",
       "    <tr>\n",
       "      <th>0</th>\n",
       "      <td>85656</td>\n",
       "      <td>19149</td>\n",
       "      <td>165</td>\n",
       "      <td>62.0</td>\n",
       "      <td>m</td>\n",
       "      <td>0.0</td>\n",
       "      <td>1.0</td>\n",
       "      <td>52.463014</td>\n",
       "    </tr>\n",
       "    <tr>\n",
       "      <th>1</th>\n",
       "      <td>85658</td>\n",
       "      <td>14453</td>\n",
       "      <td>159</td>\n",
       "      <td>67.0</td>\n",
       "      <td>m</td>\n",
       "      <td>0.0</td>\n",
       "      <td>1.0</td>\n",
       "      <td>39.597260</td>\n",
       "    </tr>\n",
       "    <tr>\n",
       "      <th>2</th>\n",
       "      <td>85659</td>\n",
       "      <td>15877</td>\n",
       "      <td>168</td>\n",
       "      <td>59.0</td>\n",
       "      <td>m</td>\n",
       "      <td>0.0</td>\n",
       "      <td>1.0</td>\n",
       "      <td>43.498630</td>\n",
       "    </tr>\n",
       "    <tr>\n",
       "      <th>3</th>\n",
       "      <td>85660</td>\n",
       "      <td>21228</td>\n",
       "      <td>167</td>\n",
       "      <td>70.0</td>\n",
       "      <td>f</td>\n",
       "      <td>1.0</td>\n",
       "      <td>0.0</td>\n",
       "      <td>58.158904</td>\n",
       "    </tr>\n",
       "    <tr>\n",
       "      <th>4</th>\n",
       "      <td>85661</td>\n",
       "      <td>54</td>\n",
       "      <td>163</td>\n",
       "      <td>82.0</td>\n",
       "      <td>f</td>\n",
       "      <td>1.0</td>\n",
       "      <td>0.0</td>\n",
       "      <td>54.000000</td>\n",
       "    </tr>\n",
       "  </tbody>\n",
       "</table>\n",
       "</div>"
      ],
      "text/plain": [
       "      id    age  height  weight gender  gender_f  gender_m      age_2\n",
       "0  85656  19149     165    62.0      m       0.0       1.0  52.463014\n",
       "1  85658  14453     159    67.0      m       0.0       1.0  39.597260\n",
       "2  85659  15877     168    59.0      m       0.0       1.0  43.498630\n",
       "3  85660  21228     167    70.0      f       1.0       0.0  58.158904\n",
       "4  85661     54     163    82.0      f       1.0       0.0  54.000000"
      ]
     },
     "execution_count": 14,
     "metadata": {},
     "output_type": "execute_result"
    }
   ],
   "source": [
    "#cleaning the age column for the test data\n",
    "diabetes_info_test['age_2'] = diabetes_info_test['age']\n",
    "diabetes_info_test.loc[ diabetes_info_test['age'] > 150, 'age_2'] = diabetes_info_test['age'] / 365\n",
    "diabetes_info_test['age'] = diabetes_info_test['age'].apply( lambda x: math.floor( x ) )\n",
    "diabetes_info_test.head()"
   ]
  },
  {
   "cell_type": "code",
   "execution_count": 15,
   "metadata": {
    "scrolled": true
   },
   "outputs": [
    {
     "data": {
      "text/plain": [
       "count    58018.000000\n",
       "mean        74.186940\n",
       "std         14.607286\n",
       "min         10.000000\n",
       "25%         65.000000\n",
       "50%         71.000000\n",
       "75%         82.000000\n",
       "max        200.000000\n",
       "Name: weight, dtype: float64"
      ]
     },
     "execution_count": 15,
     "metadata": {},
     "output_type": "execute_result"
    }
   ],
   "source": [
    "#checking weight column for cleanup\n",
    "diabetes_info_train['weight'].describe()"
   ]
  },
  {
   "cell_type": "code",
   "execution_count": 16,
   "metadata": {
    "scrolled": true
   },
   "outputs": [
    {
     "data": {
      "text/plain": [
       "count    60000.000000\n",
       "mean       164.348450\n",
       "std          8.198147\n",
       "min         55.000000\n",
       "25%        159.000000\n",
       "50%        165.000000\n",
       "75%        170.000000\n",
       "max        250.000000\n",
       "Name: height, dtype: float64"
      ]
     },
     "execution_count": 16,
     "metadata": {},
     "output_type": "execute_result"
    }
   ],
   "source": [
    "#checking height column for cleanup\n",
    "diabetes_info_train['height'].describe()"
   ]
  },
  {
   "cell_type": "code",
   "execution_count": 17,
   "metadata": {
    "scrolled": true
   },
   "outputs": [
    {
     "data": {
      "text/plain": [
       "id                0\n",
       "cholesterol       0\n",
       "gluc              0\n",
       "smoke             0\n",
       "alco              0\n",
       "active            0\n",
       "pressure          0\n",
       "diabetes          0\n",
       "chol_low          0\n",
       "chol_high         0\n",
       "chol_medium       0\n",
       "gluc_low          0\n",
       "gluc_high         0\n",
       "gluc_medium       0\n",
       "press_high        0\n",
       "press_low         0\n",
       "diabetes_label    0\n",
       "dtype: int64"
      ]
     },
     "execution_count": 17,
     "metadata": {},
     "output_type": "execute_result"
    }
   ],
   "source": [
    "#checking the missing values across columns. \n",
    "diabetes_train.isna().sum()"
   ]
  },
  {
   "cell_type": "code",
   "execution_count": 18,
   "metadata": {},
   "outputs": [],
   "source": [
    "#the weight column has too many missing values, so replaced the missing weigths with average weigth.\n",
    "imp = SimpleImputer(missing_values=np.nan, strategy='mean')\n",
    "\n",
    "imp.fit( diabetes_info_train[['weight']] )\n",
    "\n",
    "diabetes_info_train['weight_2']  = imp.transform( diabetes_info_train[['weight']]  )\n",
    "diabetes_info_test['weight_2']  = imp.transform( diabetes_info_test[['weight']]  )"
   ]
  },
  {
   "cell_type": "code",
   "execution_count": 19,
   "metadata": {},
   "outputs": [],
   "source": [
    "#merging the cleaned dataset into the main table for train and test data\n",
    "diabetes_train = diabetes_train.merge( diabetes_info_train, on=['id'], how='left' )\n",
    "diabetes_test = diabetes_test.merge( diabetes_info_test, on=['id'], how='left' )"
   ]
  },
  {
   "cell_type": "code",
   "execution_count": 20,
   "metadata": {},
   "outputs": [
    {
     "data": {
      "text/html": [
       "<div>\n",
       "<style scoped>\n",
       "    .dataframe tbody tr th:only-of-type {\n",
       "        vertical-align: middle;\n",
       "    }\n",
       "\n",
       "    .dataframe tbody tr th {\n",
       "        vertical-align: top;\n",
       "    }\n",
       "\n",
       "    .dataframe thead th {\n",
       "        text-align: right;\n",
       "    }\n",
       "</style>\n",
       "<table border=\"1\" class=\"dataframe\">\n",
       "  <thead>\n",
       "    <tr style=\"text-align: right;\">\n",
       "      <th></th>\n",
       "      <th>id</th>\n",
       "      <th>cholesterol</th>\n",
       "      <th>gluc</th>\n",
       "      <th>smoke</th>\n",
       "      <th>alco</th>\n",
       "      <th>active</th>\n",
       "      <th>pressure</th>\n",
       "      <th>diabetes</th>\n",
       "      <th>chol_low</th>\n",
       "      <th>chol_high</th>\n",
       "      <th>...</th>\n",
       "      <th>press_low</th>\n",
       "      <th>diabetes_label</th>\n",
       "      <th>age</th>\n",
       "      <th>height</th>\n",
       "      <th>weight</th>\n",
       "      <th>gender</th>\n",
       "      <th>gender_f</th>\n",
       "      <th>gender_m</th>\n",
       "      <th>age_2</th>\n",
       "      <th>weight_2</th>\n",
       "    </tr>\n",
       "  </thead>\n",
       "  <tbody>\n",
       "    <tr>\n",
       "      <th>0</th>\n",
       "      <td>56041</td>\n",
       "      <td>low</td>\n",
       "      <td>low</td>\n",
       "      <td>0</td>\n",
       "      <td>0</td>\n",
       "      <td>1</td>\n",
       "      <td>120/80</td>\n",
       "      <td>0</td>\n",
       "      <td>1.0</td>\n",
       "      <td>0.0</td>\n",
       "      <td>...</td>\n",
       "      <td>80.0</td>\n",
       "      <td>non-diabetic</td>\n",
       "      <td>21443</td>\n",
       "      <td>169</td>\n",
       "      <td>73.0</td>\n",
       "      <td>f</td>\n",
       "      <td>1.0</td>\n",
       "      <td>0.0</td>\n",
       "      <td>58.747945</td>\n",
       "      <td>73.0</td>\n",
       "    </tr>\n",
       "    <tr>\n",
       "      <th>1</th>\n",
       "      <td>83393</td>\n",
       "      <td>low</td>\n",
       "      <td>low</td>\n",
       "      <td>0</td>\n",
       "      <td>0</td>\n",
       "      <td>1</td>\n",
       "      <td>120/80</td>\n",
       "      <td>0</td>\n",
       "      <td>1.0</td>\n",
       "      <td>0.0</td>\n",
       "      <td>...</td>\n",
       "      <td>80.0</td>\n",
       "      <td>non-diabetic</td>\n",
       "      <td>18374</td>\n",
       "      <td>167</td>\n",
       "      <td>58.0</td>\n",
       "      <td>m</td>\n",
       "      <td>0.0</td>\n",
       "      <td>1.0</td>\n",
       "      <td>50.339726</td>\n",
       "      <td>58.0</td>\n",
       "    </tr>\n",
       "    <tr>\n",
       "      <th>2</th>\n",
       "      <td>29416</td>\n",
       "      <td>high</td>\n",
       "      <td>high</td>\n",
       "      <td>1</td>\n",
       "      <td>0</td>\n",
       "      <td>0</td>\n",
       "      <td>160/110</td>\n",
       "      <td>1</td>\n",
       "      <td>0.0</td>\n",
       "      <td>1.0</td>\n",
       "      <td>...</td>\n",
       "      <td>110.0</td>\n",
       "      <td>diabetic</td>\n",
       "      <td>17592</td>\n",
       "      <td>179</td>\n",
       "      <td>118.0</td>\n",
       "      <td>f</td>\n",
       "      <td>1.0</td>\n",
       "      <td>0.0</td>\n",
       "      <td>48.197260</td>\n",
       "      <td>118.0</td>\n",
       "    </tr>\n",
       "    <tr>\n",
       "      <th>3</th>\n",
       "      <td>55191</td>\n",
       "      <td>low</td>\n",
       "      <td>low</td>\n",
       "      <td>0</td>\n",
       "      <td>0</td>\n",
       "      <td>1</td>\n",
       "      <td>100/70</td>\n",
       "      <td>0</td>\n",
       "      <td>1.0</td>\n",
       "      <td>0.0</td>\n",
       "      <td>...</td>\n",
       "      <td>70.0</td>\n",
       "      <td>non-diabetic</td>\n",
       "      <td>14687</td>\n",
       "      <td>155</td>\n",
       "      <td>86.0</td>\n",
       "      <td>m</td>\n",
       "      <td>0.0</td>\n",
       "      <td>1.0</td>\n",
       "      <td>40.238356</td>\n",
       "      <td>86.0</td>\n",
       "    </tr>\n",
       "    <tr>\n",
       "      <th>4</th>\n",
       "      <td>42861</td>\n",
       "      <td>low</td>\n",
       "      <td>low</td>\n",
       "      <td>0</td>\n",
       "      <td>0</td>\n",
       "      <td>1</td>\n",
       "      <td>130/80</td>\n",
       "      <td>0</td>\n",
       "      <td>1.0</td>\n",
       "      <td>0.0</td>\n",
       "      <td>...</td>\n",
       "      <td>80.0</td>\n",
       "      <td>non-diabetic</td>\n",
       "      <td>64</td>\n",
       "      <td>165</td>\n",
       "      <td>65.0</td>\n",
       "      <td>m</td>\n",
       "      <td>0.0</td>\n",
       "      <td>1.0</td>\n",
       "      <td>64.000000</td>\n",
       "      <td>65.0</td>\n",
       "    </tr>\n",
       "  </tbody>\n",
       "</table>\n",
       "<p>5 rows × 25 columns</p>\n",
       "</div>"
      ],
      "text/plain": [
       "      id cholesterol  gluc  smoke  alco  active pressure  diabetes  chol_low  \\\n",
       "0  56041         low   low      0     0       1   120/80         0       1.0   \n",
       "1  83393         low   low      0     0       1   120/80         0       1.0   \n",
       "2  29416        high  high      1     0       0  160/110         1       0.0   \n",
       "3  55191         low   low      0     0       1   100/70         0       1.0   \n",
       "4  42861         low   low      0     0       1   130/80         0       1.0   \n",
       "\n",
       "   chol_high  ...  press_low  diabetes_label    age  height  weight  gender  \\\n",
       "0        0.0  ...       80.0    non-diabetic  21443     169    73.0       f   \n",
       "1        0.0  ...       80.0    non-diabetic  18374     167    58.0       m   \n",
       "2        1.0  ...      110.0        diabetic  17592     179   118.0       f   \n",
       "3        0.0  ...       70.0    non-diabetic  14687     155    86.0       m   \n",
       "4        0.0  ...       80.0    non-diabetic     64     165    65.0       m   \n",
       "\n",
       "  gender_f  gender_m      age_2  weight_2  \n",
       "0      1.0       0.0  58.747945      73.0  \n",
       "1      0.0       1.0  50.339726      58.0  \n",
       "2      1.0       0.0  48.197260     118.0  \n",
       "3      0.0       1.0  40.238356      86.0  \n",
       "4      0.0       1.0  64.000000      65.0  \n",
       "\n",
       "[5 rows x 25 columns]"
      ]
     },
     "execution_count": 20,
     "metadata": {},
     "output_type": "execute_result"
    }
   ],
   "source": [
    "diabetes_train.head()"
   ]
  },
  {
   "cell_type": "markdown",
   "metadata": {},
   "source": [
    "# Part 2: Explotary Data Analysis with Visualizations"
   ]
  },
  {
   "cell_type": "code",
   "execution_count": 31,
   "metadata": {},
   "outputs": [
    {
     "data": {
      "text/plain": [
       "<Figure size 576x432 with 0 Axes>"
      ]
     },
     "execution_count": 31,
     "metadata": {},
     "output_type": "execute_result"
    },
    {
     "data": {
      "image/png": "[encoded data removed]",
      "text/plain": [
       "<Figure size 432x288 with 1 Axes>"
      ]
     },
     "metadata": {
      "needs_background": "light"
     },
     "output_type": "display_data"
    },
    {
     "data": {
      "text/plain": [
       "<Figure size 576x432 with 0 Axes>"
      ]
     },
     "metadata": {},
     "output_type": "display_data"
    }
   ],
   "source": [
    "#Upper blood pressure analysis\n",
    "sns.boxplot(y=diabetes_train.loc[ (diabetes_train['press_high'] > 50) & (diabetes_train['press_high'] < 200),\\\n",
    "'diabetes_label' ], x=diabetes_train.loc[ (diabetes_train['press_high'] > 50) &(diabetes_train['press_high'] < 200),\\\n",
    "'press_high' ])\n",
    "plt.title(\"Upper Blood Pressure\", size=18)\n",
    "plt.figure(figsize=(8,6))"
   ]
  },
  {
   "cell_type": "code",
   "execution_count": 32,
   "metadata": {},
   "outputs": [
    {
     "data": {
      "text/plain": [
       "<Figure size 576x432 with 0 Axes>"
      ]
     },
     "execution_count": 32,
     "metadata": {},
     "output_type": "execute_result"
    },
    {
     "data": {
      "image/png": "[encoded data removed]",
      "text/plain": [
       "<Figure size 432x288 with 1 Axes>"
      ]
     },
     "metadata": {
      "needs_background": "light"
     },
     "output_type": "display_data"
    },
    {
     "data": {
      "text/plain": [
       "<Figure size 576x432 with 0 Axes>"
      ]
     },
     "metadata": {},
     "output_type": "display_data"
    }
   ],
   "source": [
    "#lower blood pressure analysis\n",
    "sns.boxplot(y=diabetes_train.loc[ (diabetes_train['press_low'] > 50) & \\\n",
    "(diabetes_train['press_low'] < 150), 'diabetes_label' ], \\\n",
    "x=diabetes_train.loc[ (diabetes_train['press_low'] > 50) & (diabetes_train['press_low'] < 150), 'press_low' ])\n",
    "plt.title(\"Lower Blood Pressure\", size=18)\n",
    "plt.figure(figsize=(8,6))"
   ]
  },
  {
   "cell_type": "code",
   "execution_count": 417,
   "metadata": {},
   "outputs": [
    {
     "data": {
      "image/png": "[encoded data removed]",
      "text/plain": [
       "<Figure size 576x432 with 2 Axes>"
      ]
     },
     "metadata": {},
     "output_type": "display_data"
    }
   ],
   "source": [
    "#alcohol consumption analysis\n",
    "diabetes_train['alco_label'] = 'alcohol'\n",
    "diabetes_train.loc[ diabetes_train['alco'] == 0, 'alco_label' ] = 'non-alcohol'\n",
    "\n",
    "fig, (ax1, ax2) = plt.subplots(ncols=2, figsize=(8, 6))\n",
    "diabetes_train.loc[ diabetes_train['diabetes']==0, : ].groupby('alco_label').size().plot(kind='pie', autopct=\"%1.1f%%\", textprops={'fontsize': 12},\n",
    "                                  colors=['tomato', 'gold'], ax=ax1, labels= ['', ''])\n",
    "diabetes_train.loc[ diabetes_train['diabetes']==1, : ].groupby('alco_label').size().plot(kind='pie', autopct=\"%1.1f%%\", textprops={'fontsize': 12},\n",
    "                                 colors=['violet', 'lime'], ax=ax2, labels= ['', ''])\n",
    "fig.suptitle('Alcohol level', size=18)\n",
    "ax1.set_ylabel('', size=22)\n",
    "ax1.set_xlabel('Non-diabetic', size=12)\n",
    "ax1.legend(('Alcohol', 'Non-alcohol'))\n",
    "ax2.set_xlabel('Diabetic', size=12)\n",
    "ax2.set_ylabel('', size=22)\n",
    "ax2.legend(('Alcohol', 'Non-alcohol'))\n",
    "plt.tight_layout()\n",
    "plt.show()\n"
   ]
  },
  {
   "cell_type": "code",
   "execution_count": 24,
   "metadata": {},
   "outputs": [
    {
     "data": {
      "image/png": "[encoded data removed]",
      "text/plain": [
       "<Figure size 576x432 with 1 Axes>"
      ]
     },
     "metadata": {
      "needs_background": "light"
     },
     "output_type": "display_data"
    }
   ],
   "source": [
    "diabetes_train['smoke_label'] = 'smoking'\n",
    "diabetes_train.loc[ diabetes_train['smoke'] == 0, 'smoke_label' ] = 'non-smoking'\n",
    "# Numbers of pairs of bars you want\n",
    "N = 2\n",
    "\n",
    "# Data on X-axis\n",
    "\n",
    "# Specify the values of blue bars (height)\n",
    "diabetic_by_smoke= diabetes_train.loc[ diabetes_train['diabetes']==1, : ].groupby('smoke_label').size()/\\\n",
    "(diabetes_train.loc[ diabetes_train['diabetes']==1, 'diabetes'  ]).count()\n",
    "# Specify the values of orange bars (height)\n",
    "non_diabetic_by_smoke= diabetes_train.loc[ diabetes_train['diabetes']==0, : ].groupby('smoke_label').size()/\\\n",
    "(diabetes_train.loc[ diabetes_train['diabetes']==0, 'diabetes'  ]).count()\n",
    "# Specify the values of orange bars (height)\n",
    "\n",
    "# Position of bars on x-axis\n",
    "ind = np.arange(N)\n",
    "\n",
    "# Figure size\n",
    "plt.figure(figsize=(8,6))\n",
    "\n",
    "# Width of a bar \n",
    "width = 0.3       \n",
    "\n",
    "# Plotting\n",
    "plt.bar(ind,diabetic_by_smoke  , width, label='Diabetic')\n",
    "plt.bar(ind + width, non_diabetic_by_smoke, width, label='Non-Diabetic')\n",
    "\n",
    "plt.xlabel(' ')\n",
    "plt.ylabel('Percentage')\n",
    "plt.title('Smoking analysis', size=18)\n",
    "\n",
    "# xticks()\n",
    "# First argument - A list of positions at which ticks should be placed\n",
    "# Second argument -  A list of labels to place at the given locations\n",
    "plt.xticks(ind + width / 2, ('Non-smoking', 'Smoking'))\n",
    "\n",
    "# Finding the best position for legends and putting it\n",
    "plt.legend(loc='best')\n",
    "plt.show()"
   ]
  },
  {
   "cell_type": "code",
   "execution_count": 28,
   "metadata": {},
   "outputs": [
    {
     "data": {
      "image/png": "[encoded data removed]",
      "text/plain": [
       "<Figure size 576x432 with 1 Axes>"
      ]
     },
     "metadata": {
      "needs_background": "light"
     },
     "output_type": "display_data"
    }
   ],
   "source": [
    "#weigth analysis\n",
    "diabetic_by_weigth= diabetes_train.loc[ diabetes_train['diabetes']==1, 'weight_2' ].values\n",
    "non_diabetic_by_weigth= diabetes_train.loc[ diabetes_train['diabetes']==0, 'weight_2' ].values\n",
    "\n",
    "# Figure size\n",
    "plt.figure(figsize=(8,6))\n",
    "\n",
    "# plotting first histogram\n",
    "plt.hist(non_diabetic_by_weigth, bins=20, label='Non-Diabetic')\n",
    " \n",
    "# plotting second histogram\n",
    "plt.hist(diabetic_by_weigth, bins=20, label='Diabetic' )\n",
    "\n",
    "plt.xlabel('Weight')\n",
    "plt.ylabel('Frequency')\n",
    "plt.title('Weight analysis', size=18)\n",
    "\n",
    "plt.legend(loc='best')\n",
    " \n",
    "# Showing the plot using plt.show()\n",
    "plt.show()"
   ]
  },
  {
   "cell_type": "code",
   "execution_count": 29,
   "metadata": {},
   "outputs": [
    {
     "data": {
      "image/png": "[encoded data removed]",
      "text/plain": [
       "<Figure size 576x432 with 1 Axes>"
      ]
     },
     "metadata": {
      "needs_background": "light"
     },
     "output_type": "display_data"
    }
   ],
   "source": [
    "#glucose level analysis\n",
    "diabetic_by_gluc= diabetes_train.loc[ diabetes_train['diabetes']==1, 'gluc' ].values\n",
    "non_diabetic_by_gluc= diabetes_train.loc[ diabetes_train['diabetes']==0, 'gluc' ].values\n",
    "non_diabetic_count=pd.Series(non_diabetic_by_gluc).value_counts()/pd.Series(non_diabetic_by_gluc).count()\n",
    "diabetic_count=pd.Series(diabetic_by_gluc).value_counts()/pd.Series(diabetic_by_gluc).count()\n",
    "\n",
    "plt.figure(figsize=(8,6))\n",
    "plt.bar(['low', 'medium', 'high'], diabetic_count, label=\"Diabetic\")\n",
    "\n",
    "plt.bar(['low', 'medium', 'high'], non_diabetic_count, label = \"Non-diabetic\")\n",
    "plt.xlabel('Glucose level')\n",
    "plt.ylabel('Percentage')\n",
    "plt.xticks(rotation=90)\n",
    "plt.legend(loc='best')\n",
    "plt.title('Glucose level', size=18)\n",
    "plt.show()"
   ]
  },
  {
   "cell_type": "code",
   "execution_count": 421,
   "metadata": {},
   "outputs": [
    {
     "data": {
      "text/html": [
       "<div>\n",
       "<style scoped>\n",
       "    .dataframe tbody tr th:only-of-type {\n",
       "        vertical-align: middle;\n",
       "    }\n",
       "\n",
       "    .dataframe tbody tr th {\n",
       "        vertical-align: top;\n",
       "    }\n",
       "\n",
       "    .dataframe thead th {\n",
       "        text-align: right;\n",
       "    }\n",
       "</style>\n",
       "<table border=\"1\" class=\"dataframe\">\n",
       "  <thead>\n",
       "    <tr style=\"text-align: right;\">\n",
       "      <th></th>\n",
       "      <th>id</th>\n",
       "      <th>cholesterol</th>\n",
       "      <th>gluc</th>\n",
       "      <th>smoke</th>\n",
       "      <th>alco</th>\n",
       "      <th>active</th>\n",
       "      <th>pressure</th>\n",
       "      <th>diabetes</th>\n",
       "      <th>chol_low</th>\n",
       "      <th>chol_high</th>\n",
       "      <th>...</th>\n",
       "      <th>age</th>\n",
       "      <th>height</th>\n",
       "      <th>weight</th>\n",
       "      <th>gender</th>\n",
       "      <th>gender_f</th>\n",
       "      <th>gender_m</th>\n",
       "      <th>age_2</th>\n",
       "      <th>weight_2</th>\n",
       "      <th>alco_label</th>\n",
       "      <th>smoke_label</th>\n",
       "    </tr>\n",
       "  </thead>\n",
       "  <tbody>\n",
       "    <tr>\n",
       "      <th>0</th>\n",
       "      <td>56041</td>\n",
       "      <td>low</td>\n",
       "      <td>low</td>\n",
       "      <td>0</td>\n",
       "      <td>0</td>\n",
       "      <td>1</td>\n",
       "      <td>120/80</td>\n",
       "      <td>0</td>\n",
       "      <td>1.0</td>\n",
       "      <td>0.0</td>\n",
       "      <td>...</td>\n",
       "      <td>21443</td>\n",
       "      <td>169</td>\n",
       "      <td>73.0</td>\n",
       "      <td>f</td>\n",
       "      <td>1.0</td>\n",
       "      <td>0.0</td>\n",
       "      <td>58.747945</td>\n",
       "      <td>73.0</td>\n",
       "      <td>non-alcohol</td>\n",
       "      <td>non-smoking</td>\n",
       "    </tr>\n",
       "    <tr>\n",
       "      <th>1</th>\n",
       "      <td>83393</td>\n",
       "      <td>low</td>\n",
       "      <td>low</td>\n",
       "      <td>0</td>\n",
       "      <td>0</td>\n",
       "      <td>1</td>\n",
       "      <td>120/80</td>\n",
       "      <td>0</td>\n",
       "      <td>1.0</td>\n",
       "      <td>0.0</td>\n",
       "      <td>...</td>\n",
       "      <td>18374</td>\n",
       "      <td>167</td>\n",
       "      <td>58.0</td>\n",
       "      <td>m</td>\n",
       "      <td>0.0</td>\n",
       "      <td>1.0</td>\n",
       "      <td>50.339726</td>\n",
       "      <td>58.0</td>\n",
       "      <td>non-alcohol</td>\n",
       "      <td>non-smoking</td>\n",
       "    </tr>\n",
       "    <tr>\n",
       "      <th>2</th>\n",
       "      <td>29416</td>\n",
       "      <td>high</td>\n",
       "      <td>high</td>\n",
       "      <td>1</td>\n",
       "      <td>0</td>\n",
       "      <td>0</td>\n",
       "      <td>160/110</td>\n",
       "      <td>1</td>\n",
       "      <td>0.0</td>\n",
       "      <td>1.0</td>\n",
       "      <td>...</td>\n",
       "      <td>17592</td>\n",
       "      <td>179</td>\n",
       "      <td>118.0</td>\n",
       "      <td>f</td>\n",
       "      <td>1.0</td>\n",
       "      <td>0.0</td>\n",
       "      <td>48.197260</td>\n",
       "      <td>118.0</td>\n",
       "      <td>non-alcohol</td>\n",
       "      <td>smoking</td>\n",
       "    </tr>\n",
       "    <tr>\n",
       "      <th>3</th>\n",
       "      <td>55191</td>\n",
       "      <td>low</td>\n",
       "      <td>low</td>\n",
       "      <td>0</td>\n",
       "      <td>0</td>\n",
       "      <td>1</td>\n",
       "      <td>100/70</td>\n",
       "      <td>0</td>\n",
       "      <td>1.0</td>\n",
       "      <td>0.0</td>\n",
       "      <td>...</td>\n",
       "      <td>14687</td>\n",
       "      <td>155</td>\n",
       "      <td>86.0</td>\n",
       "      <td>m</td>\n",
       "      <td>0.0</td>\n",
       "      <td>1.0</td>\n",
       "      <td>40.238356</td>\n",
       "      <td>86.0</td>\n",
       "      <td>non-alcohol</td>\n",
       "      <td>non-smoking</td>\n",
       "    </tr>\n",
       "    <tr>\n",
       "      <th>4</th>\n",
       "      <td>42861</td>\n",
       "      <td>low</td>\n",
       "      <td>low</td>\n",
       "      <td>0</td>\n",
       "      <td>0</td>\n",
       "      <td>1</td>\n",
       "      <td>130/80</td>\n",
       "      <td>0</td>\n",
       "      <td>1.0</td>\n",
       "      <td>0.0</td>\n",
       "      <td>...</td>\n",
       "      <td>64</td>\n",
       "      <td>165</td>\n",
       "      <td>65.0</td>\n",
       "      <td>m</td>\n",
       "      <td>0.0</td>\n",
       "      <td>1.0</td>\n",
       "      <td>64.000000</td>\n",
       "      <td>65.0</td>\n",
       "      <td>non-alcohol</td>\n",
       "      <td>non-smoking</td>\n",
       "    </tr>\n",
       "  </tbody>\n",
       "</table>\n",
       "<p>5 rows × 27 columns</p>\n",
       "</div>"
      ],
      "text/plain": [
       "      id cholesterol  gluc  smoke  alco  active pressure  diabetes  chol_low  \\\n",
       "0  56041         low   low      0     0       1   120/80         0       1.0   \n",
       "1  83393         low   low      0     0       1   120/80         0       1.0   \n",
       "2  29416        high  high      1     0       0  160/110         1       0.0   \n",
       "3  55191         low   low      0     0       1   100/70         0       1.0   \n",
       "4  42861         low   low      0     0       1   130/80         0       1.0   \n",
       "\n",
       "   chol_high  ...    age  height  weight  gender  gender_f  gender_m  \\\n",
       "0        0.0  ...  21443     169    73.0       f       1.0       0.0   \n",
       "1        0.0  ...  18374     167    58.0       m       0.0       1.0   \n",
       "2        1.0  ...  17592     179   118.0       f       1.0       0.0   \n",
       "3        0.0  ...  14687     155    86.0       m       0.0       1.0   \n",
       "4        0.0  ...     64     165    65.0       m       0.0       1.0   \n",
       "\n",
       "       age_2  weight_2   alco_label  smoke_label  \n",
       "0  58.747945      73.0  non-alcohol  non-smoking  \n",
       "1  50.339726      58.0  non-alcohol  non-smoking  \n",
       "2  48.197260     118.0  non-alcohol      smoking  \n",
       "3  40.238356      86.0  non-alcohol  non-smoking  \n",
       "4  64.000000      65.0  non-alcohol  non-smoking  \n",
       "\n",
       "[5 rows x 27 columns]"
      ]
     },
     "execution_count": 421,
     "metadata": {},
     "output_type": "execute_result"
    }
   ],
   "source": [
    "diabetes_train.head()"
   ]
  },
  {
   "cell_type": "code",
   "execution_count": 422,
   "metadata": {},
   "outputs": [
    {
     "data": {
      "image/png": "[encoded data removed]",
      "text/plain": [
       "<Figure size 576x432 with 2 Axes>"
      ]
     },
     "metadata": {},
     "output_type": "display_data"
    }
   ],
   "source": [
    "#activity level analysis\n",
    "diabetes_train['active_label'] = 'active'\n",
    "diabetes_train.loc[ diabetes_train['active'] == 0, 'active_label' ] = 'non-active'\n",
    "\n",
    "fig, (ax1, ax2) = plt.subplots(ncols=2, figsize=(8, 6))\n",
    "diabetes_train.loc[ diabetes_train['diabetes']==0, : ].groupby('active_label').size().plot(kind='pie', autopct=\"%1.1f%%\", textprops={'fontsize': 12},\n",
    "                                  colors=['tomato', 'gold'], ax=ax1)\n",
    "diabetes_train.loc[ diabetes_train['diabetes']==1, : ].groupby('active_label').size().plot(kind='pie', autopct=\"%1.1f%%\", textprops={'fontsize': 12},\n",
    "                                 colors=['violet', 'lime'], ax=ax2)\n",
    "fig.suptitle('Activity level', size=18)\n",
    "ax1.set_ylabel('', size=22)\n",
    "ax1.set_xlabel('Non-diabetic', size=12)\n",
    "ax2.set_xlabel('Diabetic', size=12)\n",
    "ax2.set_ylabel('', size=22)\n",
    "plt.tight_layout()\n",
    "plt.show()"
   ]
  },
  {
   "cell_type": "markdown",
   "metadata": {},
   "source": [
    "# Part 3: Model Building for Diebetes Prediction"
   ]
  },
  {
   "cell_type": "code",
   "execution_count": 423,
   "metadata": {},
   "outputs": [],
   "source": [
    "#identifing the regression columns and targer columns for model training\n",
    "regressor_columns = [ 'smoke', 'alco', 'active', 'press_high', 'press_low', 'chol_low', 'chol_high', 'chol_medium', 'gluc_low',\n",
    "       'gluc_high', 'gluc_medium', 'height', 'gender_f', 'gender_m', 'age_2', 'weight_2']\n",
    "\n",
    "target_column = [ 'diabetes' ]\n"
   ]
  },
  {
   "cell_type": "code",
   "execution_count": 424,
   "metadata": {},
   "outputs": [],
   "source": [
    "diabetes_train_x = diabetes_train[ regressor_columns ]\n",
    "diabetes_train_y = diabetes_train[ target_column ]\n",
    "\n",
    "diabetes_test_x = diabetes_test[ regressor_columns ]\n",
    "diabetes_test_y = diabetes_test[ target_column ]"
   ]
  },
  {
   "cell_type": "code",
   "execution_count": 425,
   "metadata": {},
   "outputs": [
    {
     "name": "stderr",
     "output_type": "stream",
     "text": [
      "/opt/anaconda3/lib/python3.9/site-packages/sklearn/utils/validation.py:993: DataConversionWarning: A column-vector y was passed when a 1d array was expected. Please change the shape of y to (n_samples, ), for example using ravel().\n",
      "  y = column_or_1d(y, warn=True)\n",
      "/opt/anaconda3/lib/python3.9/site-packages/sklearn/linear_model/_logistic.py:814: ConvergenceWarning: lbfgs failed to converge (status=1):\n",
      "STOP: TOTAL NO. of ITERATIONS REACHED LIMIT.\n",
      "\n",
      "Increase the number of iterations (max_iter) or scale the data as shown in:\n",
      "    https://scikit-learn.org/stable/modules/preprocessing.html\n",
      "Please also refer to the documentation for alternative solver options:\n",
      "    https://scikit-learn.org/stable/modules/linear_model.html#logistic-regression\n",
      "  n_iter_i = _check_optimize_result(\n"
     ]
    },
    {
     "data": {
      "text/plain": [
       "0.9641"
      ]
     },
     "execution_count": 425,
     "metadata": {},
     "output_type": "execute_result"
    }
   ],
   "source": [
    "#using the Logistic Regression\n",
    "clf_logistic = LogisticRegression(random_state=10).fit( diabetes_train_x, diabetes_train_y )\n",
    "\n",
    "diabetes_test_pred = clf_logistic.predict( diabetes_test_x )\n",
    "\n",
    "from sklearn.metrics import accuracy_score\n",
    "\n",
    "accuracy_score( diabetes_test_pred, diabetes_test_y )"
   ]
  },
  {
   "cell_type": "code",
   "execution_count": 426,
   "metadata": {},
   "outputs": [
    {
     "name": "stderr",
     "output_type": "stream",
     "text": [
      "/var/folders/2l/4sfsfwsj75b983vyd4lrhr6r0000gn/T/ipykernel_75197/3128209373.py:2: DataConversionWarning: A column-vector y was passed when a 1d array was expected. Please change the shape of y to (n_samples,), for example using ravel().\n",
      "  clf_RF = RandomForestClassifier(max_depth=19, random_state=0).fit( diabetes_train_x, diabetes_train_y )\n"
     ]
    },
    {
     "data": {
      "text/plain": [
       "0.9888"
      ]
     },
     "execution_count": 426,
     "metadata": {},
     "output_type": "execute_result"
    }
   ],
   "source": [
    "#using Random Forest\n",
    "clf_RF = RandomForestClassifier(max_depth=19, random_state=0).fit( diabetes_train_x, diabetes_train_y )\n",
    "\n",
    "diabetes_test_pred_rf = clf_RF.predict( diabetes_test_x )\n",
    "\n",
    "accuracy_score( diabetes_test_pred_rf, diabetes_test_y )"
   ]
  },
  {
   "cell_type": "code",
   "execution_count": 427,
   "metadata": {},
   "outputs": [
    {
     "data": {
      "text/plain": [
       "Text(0.5, 0, 'Random Forest Classifier Feature Importance')"
      ]
     },
     "execution_count": 427,
     "metadata": {},
     "output_type": "execute_result"
    },
    {
     "data": {
      "image/png": "[encoded data removed]",
      "text/plain": [
       "<Figure size 576x432 with 1 Axes>"
      ]
     },
     "metadata": {
      "needs_background": "light"
     },
     "output_type": "display_data"
    }
   ],
   "source": [
    "#plotted the feature importances for the regressors\n",
    "sorted_idx = clf_RF.feature_importances_.argsort()\n",
    "\n",
    "plt.figure(figsize=(8,6))\n",
    "plt.title(\"Feature importances from the Random Forest Classifier model\")\n",
    "plt.barh(np.array(regressor_columns)[sorted_idx], clf_RF.feature_importances_[sorted_idx])\n",
    "plt.xlabel(\"Random Forest Classifier Feature Importance\")"
   ]
  },
  {
   "cell_type": "code",
   "execution_count": null,
   "metadata": {},
   "outputs": [],
   "source": []
  },
  {
   "cell_type": "code",
   "execution_count": null,
   "metadata": {},
   "outputs": [],
   "source": []
  }
 ],
 "metadata": {
  "kernelspec": {
   "display_name": "Python 3 (ipykernel)",
   "language": "python",
   "name": "python3"
  },
  "language_info": {
   "codemirror_mode": {
    "name": "ipython",
    "version": 3
   },
   "file_extension": ".py",
   "mimetype": "text/x-python",
   "name": "python",
   "nbconvert_exporter": "python",
   "pygments_lexer": "ipython3",
   "version": "3.9.12"
  }
 },
 "nbformat": 4,
 "nbformat_minor": 2
}
